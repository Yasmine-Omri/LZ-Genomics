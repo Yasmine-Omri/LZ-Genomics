{
 "cells": [
  {
   "cell_type": "code",
   "execution_count": 27,
   "metadata": {},
   "outputs": [],
   "source": [
    "from lz78 import Sequence, LZ78SPA, CharacterMap\n",
    "import pandas as pd\n",
    "import numpy as np\n",
    "from multiprocessing import Pool, Value, Lock\n",
    "from sys import stdout\n",
    "from tqdm import tqdm"
   ]
  },
  {
   "cell_type": "code",
   "execution_count": 108,
   "metadata": {},
   "outputs": [],
   "source": [
    "DATASET = \"GUE/virus/covid\"\n",
    "EPOCHS = 1"
   ]
  },
  {
   "cell_type": "code",
   "execution_count": 109,
   "metadata": {},
   "outputs": [],
   "source": [
    "train_path = f\"{DATASET}/train.csv\"\n",
    "val_path = f\"{DATASET}/dev.csv\"\n",
    "test_path = f\"{DATASET}/test.csv\""
   ]
  },
  {
   "cell_type": "code",
   "execution_count": 110,
   "metadata": {},
   "outputs": [],
   "source": [
    "train_data = pd.read_csv(train_path)\n",
    "validation_data = pd.read_csv(val_path)\n",
    "test_data = pd.read_csv(test_path)\n",
    "\n",
    "ALPHABET_SIZE = 4\n",
    "unique_labels = sorted(train_data['label'].unique())\n",
    "n = len(unique_labels)"
   ]
  },
  {
   "cell_type": "code",
   "execution_count": 116,
   "metadata": {},
   "outputs": [],
   "source": [
    "for i in train_data.index:\n",
    "    train_data.loc[i, \"sequence\"] = \"\".join([x for x in train_data.loc[i, \"sequence\"] if x in \"ACGT\"])\n",
    "for i in validation_data.index:\n",
    "    validation_data.loc[i, \"sequence\"] =  \"\".join([x for x in validation_data.loc[i, \"sequence\"] if x in \"ACGT\"])\n",
    "for i in test_data.index:\n",
    "    test_data.loc[i, \"sequence\"] =  \"\".join([x for x in test_data.loc[i, \"sequence\"] if x in \"ACGT\"])"
   ]
  },
  {
   "cell_type": "code",
   "execution_count": 117,
   "metadata": {},
   "outputs": [],
   "source": [
    "def train_spa_oneIter(data: pd.DataFrame, spas: list[LZ78SPA]):\n",
    "    grouped_data = data.groupby(\"label\")[\"sequence\"]\n",
    "    for (label, data) in grouped_data:\n",
    "        for seq in data:\n",
    "            spas[label].reset_state()\n",
    "            spas[label].train_on_block(Sequence(seq, charmap=CharacterMap(\"ACGT\")))"
   ]
  },
  {
   "cell_type": "code",
   "execution_count": 118,
   "metadata": {},
   "outputs": [],
   "source": [
    "spas = [LZ78SPA(alphabet_size=4, gamma=1, compute_training_loss=False) for _ in range(n)]"
   ]
  },
  {
   "cell_type": "code",
   "execution_count": 135,
   "metadata": {},
   "outputs": [
    {
     "name": "stderr",
     "output_type": "stream",
     "text": [
      "100%|██████████| 1/1 [00:12<00:00, 12.69s/it]\n"
     ]
    }
   ],
   "source": [
    "stdout.flush()\n",
    "for _ in tqdm(range(EPOCHS)):\n",
    "    train_spa_oneIter(train_data, spas)"
   ]
  },
  {
   "cell_type": "code",
   "execution_count": 136,
   "metadata": {},
   "outputs": [],
   "source": [
    "for i in range(n):\n",
    "    spas[i].set_inference_config(\n",
    "        gamma=1,\n",
    "        lb=1e-5,\n",
    "        ensemble_type=\"entropy\",\n",
    "        ensemble_n=10,\n",
    "        backshift_parsing=True,\n",
    "        backshift_ctx_len=20,\n",
    "        backshift_break_at_phrase=True\n",
    "    )"
   ]
  },
  {
   "cell_type": "code",
   "execution_count": 137,
   "metadata": {},
   "outputs": [],
   "source": [
    "def classify(data: pd.DataFrame, spas: list[LZ78SPA], n_threads=64):\n",
    "    labels = data[\"label\"]\n",
    "    data = [Sequence(seq, charmap=CharacterMap(\"ACGT\")) for seq in data[\"sequence\"]]\n",
    "    log_losses = np.zeros((len(spas), len(data)))\n",
    "    for i in range(len(spas)):\n",
    "        log_losses[i, :] = [res[\"avg_log_loss\"] for res in spas[i].compute_test_loss_parallel(data, num_threads=n_threads)]\n",
    "    classes = np.argmin(log_losses, axis=0)\n",
    "    return (classes == labels).sum() / len(labels)"
   ]
  },
  {
   "cell_type": "code",
   "execution_count": 138,
   "metadata": {},
   "outputs": [
    {
     "data": {
      "text/plain": [
       "np.float64(0.5093804537521816)"
      ]
     },
     "execution_count": 138,
     "metadata": {},
     "output_type": "execute_result"
    }
   ],
   "source": [
    "classify(test_data, spas)"
   ]
  },
  {
   "cell_type": "code",
   "execution_count": null,
   "metadata": {},
   "outputs": [],
   "source": []
  }
 ],
 "metadata": {
  "kernelspec": {
   "display_name": "lz_env",
   "language": "python",
   "name": "python3"
  },
  "language_info": {
   "codemirror_mode": {
    "name": "ipython",
    "version": 3
   },
   "file_extension": ".py",
   "mimetype": "text/x-python",
   "name": "python",
   "nbconvert_exporter": "python",
   "pygments_lexer": "ipython3",
   "version": "3.11.11"
  }
 },
 "nbformat": 4,
 "nbformat_minor": 2
}
