{
 "cells": [
  {
   "cell_type": "code",
   "execution_count": 1,
   "metadata": {},
   "outputs": [],
   "source": [
    "import pandas as pd\n",
    "from tqdm import tqdm\n",
    "from dataclasses import dataclass\n",
    "from sys import stdout\n",
    "from multiprocessing import Pool\n",
    "import numpy as np\n",
    "from time import time\n",
    "from lz78 import spa_from_file, LZ78SPA, Sequence, LZ78Classifier, CharacterMap, classifier_from_files"
   ]
  },
  {
   "cell_type": "code",
   "execution_count": 2,
   "metadata": {},
   "outputs": [],
   "source": [
    "path = \"best_spas/minimal\"\n",
    "prefix = \"virus_covid\"\n",
    "test_path = \"GUE/virus/covid/test.csv\"\n",
    "n_classes = 9"
   ]
  },
  {
   "cell_type": "code",
   "execution_count": 3,
   "metadata": {},
   "outputs": [],
   "source": [
    "stdout.flush()\n",
    "spas = classifier_from_files([f\"{path}/{prefix}_{i}.bin\" for i in range(n_classes)])"
   ]
  },
  {
   "cell_type": "code",
   "execution_count": 4,
   "metadata": {},
   "outputs": [],
   "source": [
    "test_data = pd.read_csv(test_path)\n",
    "for i in range(len(test_data)):\n",
    "    test_data.loc[i, \"sequence\"] =  \"\".join([x for x in test_data.loc[i, \"sequence\"] if x in \"ACGT\"])"
   ]
  },
  {
   "cell_type": "code",
   "execution_count": 5,
   "metadata": {},
   "outputs": [],
   "source": [
    "spas.set_inference_config(\n",
    "    ensemble_n=10,\n",
    "    ensemble_type=\"entropy\",\n",
    "    backshift_ctx_len=20\n",
    ")"
   ]
  },
  {
   "cell_type": "code",
   "execution_count": 6,
   "metadata": {},
   "outputs": [],
   "source": [
    "def classify_singlethread(data: pd.DataFrame, spas: LZ78Classifier):\n",
    "    labels = data[\"label\"]\n",
    "    classes = np.zeros(len(labels))\n",
    "    for (i, seq) in enumerate(tqdm(data[\"sequence\"])):\n",
    "        classes[i] = spas.classify(Sequence(seq, charmap=CharacterMap(\"ACGT\")))\n",
    "\n",
    "    return (classes == labels).sum() / len(labels)"
   ]
  },
  {
   "cell_type": "code",
   "execution_count": 12,
   "metadata": {},
   "outputs": [
    {
     "name": "stderr",
     "output_type": "stream",
     "text": [
      "100%|██████████| 9168/9168 [03:34<00:00, 42.69it/s]"
     ]
    },
    {
     "name": "stdout",
     "output_type": "stream",
     "text": [
      "0.7219677137870855\n"
     ]
    },
    {
     "name": "stderr",
     "output_type": "stream",
     "text": [
      "\n"
     ]
    }
   ],
   "source": [
    "stdout.flush()\n",
    "tic = time()\n",
    "print(classify_singlethread(test_data, spas))\n",
    "elapsed = time() - tic"
   ]
  },
  {
   "cell_type": "code",
   "execution_count": 15,
   "metadata": {},
   "outputs": [
    {
     "data": {
      "text/plain": [
       "23.45038106284405"
      ]
     },
     "execution_count": 15,
     "metadata": {},
     "output_type": "execute_result"
    }
   ],
   "source": [
    "elapsed / len(test_data[\"sequence\"]) / len(test_data[\"sequence\"][0]) * 1e6"
   ]
  },
  {
   "cell_type": "code",
   "execution_count": null,
   "metadata": {},
   "outputs": [],
   "source": []
  }
 ],
 "metadata": {
  "kernelspec": {
   "display_name": "lz_env",
   "language": "python",
   "name": "python3"
  },
  "language_info": {
   "codemirror_mode": {
    "name": "ipython",
    "version": 3
   },
   "file_extension": ".py",
   "mimetype": "text/x-python",
   "name": "python",
   "nbconvert_exporter": "python",
   "pygments_lexer": "ipython3",
   "version": "3.11.11"
  }
 },
 "nbformat": 4,
 "nbformat_minor": 2
}
